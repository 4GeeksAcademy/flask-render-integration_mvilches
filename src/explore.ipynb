{
 "cells": [
  {
   "cell_type": "code",
   "execution_count": 1,
   "id": "51d47f88",
   "metadata": {},
   "outputs": [
    {
     "name": "stdout",
     "output_type": "stream",
     "text": [
      "Predicción para el primer ejemplo: [0]\n"
     ]
    }
   ],
   "source": [
    "from sklearn.datasets import load_iris\n",
    "from sklearn.tree import DecisionTreeClassifier\n",
    "\n",
    "# Cargar el conjunto de datos Iris\n",
    "iris = load_iris()\n",
    "X, y = iris.data, iris.target\n",
    "\n",
    "# Crear y entrenar el modelo de árbol de decisión\n",
    "clf = DecisionTreeClassifier()\n",
    "clf.fit(X, y)\n",
    "\n",
    "# Realizar una predicción sobre el primer ejemplo\n",
    "prediccion = clf.predict([X[0]])\n",
    "print(\"Predicción para el primer ejemplo:\", prediccion)\n",
    "\n",
    "#guarda el modelo entrenado en la carpeta ../models\n",
    "from pickle import dump\n",
    "with open('../models/decision_tree_model.pkl', 'wb') as f:\n",
    "    dump(clf, f)\n"
   ]
  }
 ],
 "metadata": {
  "kernelspec": {
   "display_name": "Python 3",
   "language": "python",
   "name": "python3"
  },
  "language_info": {
   "codemirror_mode": {
    "name": "ipython",
    "version": 3
   },
   "file_extension": ".py",
   "mimetype": "text/x-python",
   "name": "python",
   "nbconvert_exporter": "python",
   "pygments_lexer": "ipython3",
   "version": "3.11.4"
  }
 },
 "nbformat": 4,
 "nbformat_minor": 5
}
